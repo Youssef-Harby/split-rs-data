{
 "cells": [
  {
   "cell_type": "markdown",
   "id": "0793143e",
   "metadata": {},
   "source": [
    "# Conver Vector to Raster with reference coordinate system from raster tiff"
   ]
  },
  {
   "cell_type": "markdown",
   "id": "6c385c20",
   "metadata": {},
   "source": [
    "all these tools made for prepare data for paddlepaddlea."
   ]
  },
  {
   "cell_type": "code",
   "execution_count": null,
   "id": "7743410a",
   "metadata": {},
   "outputs": [],
   "source": [
    "from osgeo import gdal, gdal_array, ogr\n",
    "import mygrid as cropfarm"
   ]
  },
  {
   "cell_type": "markdown",
   "id": "a3a9ab47",
   "metadata": {},
   "source": [
    "- fn_ras = Input raster data (GTiff)\n",
    "- fn_vec = input vector data (Shapefile)"
   ]
  },
  {
   "cell_type": "code",
   "execution_count": null,
   "id": "b18a8fe1",
   "metadata": {},
   "outputs": [],
   "source": [
    "fn_ras = 'DataSet/raster/2019_9_4_res.tif'\n",
    "fn_vec = 'DataSet/vector/esribbb.shp'\n",
    "output = 'DataSet/raster/lab_all_values.tif'\n",
    "att_field = 'fid' # attribute field in vector table like building id"
   ]
  },
  {
   "cell_type": "code",
   "execution_count": null,
   "id": "44cf23ce",
   "metadata": {},
   "outputs": [],
   "source": [
    "ras_ds = gdal.Open(fn_ras)\n",
    "vec_ds = ogr.Open(fn_vec)"
   ]
  },
  {
   "cell_type": "code",
   "execution_count": null,
   "id": "88d2a8c7",
   "metadata": {},
   "outputs": [],
   "source": [
    "lyr = vec_ds.GetLayer()\n",
    "geot = ras_ds.GetGeoTransform()\n",
    "proj = ras_ds.GetProjection() # Get the projection from original tiff (fn_ras)"
   ]
  },
  {
   "cell_type": "code",
   "execution_count": null,
   "id": "6bb68b19",
   "metadata": {},
   "outputs": [],
   "source": [
    "drv_tiff = gdal.GetDriverByName(\"GTiff\")\n",
    "chn_ras_ds = drv_tiff.Create(output, ras_ds.RasterXSize, ras_ds.RasterYSize, 1, gdal.GDT_Byte)\n",
    "chn_ras_ds.SetGeoTransform(geot)"
   ]
  },
  {
   "cell_type": "code",
   "execution_count": null,
   "id": "87938277",
   "metadata": {},
   "outputs": [],
   "source": [
    "gdal.RasterizeLayer(chn_ras_ds, [1], lyr, options=['ATTRIBUTE=fid'])\n",
    "chn_ras_ds.GetRasterBand(1).SetNoDataValue(0.0) # Change No Data Value to 0\n",
    "chn_ras_ds.SetProjection (proj) # Set the projection from original tiff (fn_ras) to the rasterized tiff\n",
    "chn_ras_ds = None"
   ]
  },
  {
   "cell_type": "markdown",
   "id": "1189b1a2",
   "metadata": {},
   "source": [
    "Change all Values >= 1 to 1"
   ]
  },
  {
   "cell_type": "code",
   "execution_count": null,
   "id": "3d43eed7",
   "metadata": {},
   "outputs": [],
   "source": [
    "final_output = \"DataSet/raster/final_lab.tif\""
   ]
  },
  {
   "cell_type": "code",
   "execution_count": null,
   "id": "ceeac826",
   "metadata": {},
   "outputs": [],
   "source": [
    "ds = gdal.Open(output)\n",
    "ds.GetRasterBand(1).SetNoDataValue(-9999)\n",
    "ds.FlushCache()"
   ]
  },
  {
   "cell_type": "code",
   "execution_count": null,
   "id": "b4a9c39e",
   "metadata": {},
   "outputs": [],
   "source": [
    "# create color table\n",
    "# colors = gdal.ColorTable()\n",
    "\n",
    "# set color for the only value\n",
    "# colors.SetColorEntry(1, (225, 89, 137))\n",
    "\n",
    "# set color table and color interpretation\n",
    "# ds.SetRasterColorTable(colors)\n",
    "# ds.SetRasterColorInterpretation(gdal.GCI_PaletteIndex)"
   ]
  },
  {
   "cell_type": "code",
   "execution_count": null,
   "id": "b41b132e",
   "metadata": {},
   "outputs": [],
   "source": [
    "arr = ds.ReadAsArray()\n",
    "data = (arr >= 1)\n",
    "gdal_array.SaveArray(data.astype(\"byte\"), final_output, \"GTIFF\", ds)\n",
    "data = None"
   ]
  },
  {
   "cell_type": "code",
   "execution_count": null,
   "id": "544a4397",
   "metadata": {},
   "outputs": [],
   "source": [
    "cropfarm.mygridfun(fn_ras, \"jpg\",\"DataSet/image/image\", \"JPEG\", \"\" ) #Sat_Raster\n",
    "cropfarm.mygridfun(final_output, \"png\", \"DataSet/label/label\", \"PNG\", \"\" ) #label_raster"
   ]
  },
  {
   "cell_type": "code",
   "execution_count": null,
   "id": "611a9871",
   "metadata": {},
   "outputs": [],
   "source": []
  }
 ],
 "metadata": {
  "kernelspec": {
   "display_name": "Python 3 (ipykernel)",
   "language": "python",
   "name": "python3"
  },
  "language_info": {
   "codemirror_mode": {
    "name": "ipython",
    "version": 3
   },
   "file_extension": ".py",
   "mimetype": "text/x-python",
   "name": "python",
   "nbconvert_exporter": "python",
   "pygments_lexer": "ipython3",
   "version": "3.8.10"
  }
 },
 "nbformat": 4,
 "nbformat_minor": 5
}
